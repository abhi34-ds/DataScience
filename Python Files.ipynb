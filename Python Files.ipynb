{
 "cells": [
  {
   "cell_type": "markdown",
   "metadata": {},
   "source": [
    "# Reading ,Writing and Closing File"
   ]
  },
  {
   "cell_type": "code",
   "execution_count": 4,
   "metadata": {},
   "outputs": [],
   "source": [
    "file=open('untitled.txt','a') # 'a' will append to the end of file\n",
    "file.write('My first file writing in Python') # will write as many time as the cell is run\n",
    "file.close()\n"
   ]
  },
  {
   "cell_type": "code",
   "execution_count": 5,
   "metadata": {},
   "outputs": [
    {
     "name": "stdout",
     "output_type": "stream",
     "text": [
      "My first file writing in PythonMy first file writing in PythonMy first file writing in Python\n"
     ]
    }
   ],
   "source": [
    "file=open('untitled.txt','r') # 'r' will read the content of file\n",
    "print(file.read())"
   ]
  },
  {
   "cell_type": "code",
   "execution_count": 11,
   "metadata": {},
   "outputs": [
    {
     "name": "stdout",
     "output_type": "stream",
     "text": [
      "Overwrited the content\n"
     ]
    }
   ],
   "source": [
    "file=open('untitled.txt','w')\n",
    "file.write('Overwrited the content')\n",
    "file.close()\n",
    "\n",
    "file=open('untitled.txt','r')\n",
    "print(file.read())\n",
    "file.close()"
   ]
  },
  {
   "cell_type": "markdown",
   "metadata": {},
   "source": [
    "# Renaming File"
   ]
  },
  {
   "cell_type": "raw",
   "metadata": {},
   "source": [
    "#import os\n",
    "os.rename(r'file path\\OLD file name.file type',r'file path\\NEW file name.file type')"
   ]
  },
  {
   "cell_type": "code",
   "execution_count": 12,
   "metadata": {},
   "outputs": [],
   "source": [
    "import os  \n",
    "os.rename(r'C:\\Users\\gaming-pc\\Data_Science\\GitHub_projects\\untitled.txt',r'C:\\Users\\gaming-pc\\Data_Science\\GitHub_projects\\First_File.txt')"
   ]
  },
  {
   "cell_type": "markdown",
   "metadata": {},
   "source": [
    "# Creating a file"
   ]
  },
  {
   "cell_type": "code",
   "execution_count": 13,
   "metadata": {},
   "outputs": [],
   "source": [
    "file=open('First_CSV.csv','x')"
   ]
  },
  {
   "cell_type": "markdown",
   "metadata": {},
   "source": [
    "# Deleting folder"
   ]
  },
  {
   "cell_type": "code",
   "execution_count": 17,
   "metadata": {},
   "outputs": [],
   "source": [
    "import os\n",
    "os.rmdir('Dummyfolder') # when folder is in the same path"
   ]
  },
  {
   "cell_type": "markdown",
   "metadata": {},
   "source": [
    "# Check if file exists and then futher operations"
   ]
  },
  {
   "cell_type": "code",
   "execution_count": 41,
   "metadata": {},
   "outputs": [],
   "source": [
    "import os\n",
    "if os.path.exists('First_File.txt'):\n",
    "    file=open('First_File.txt','a')\n",
    "    file.write('\\nAppending new text')\n",
    "    file.close()\n",
    "else:\n",
    "    print('No such file exists')"
   ]
  },
  {
   "cell_type": "code",
   "execution_count": 43,
   "metadata": {},
   "outputs": [
    {
     "name": "stdout",
     "output_type": "stream",
     "text": [
      "Overwrited the contentAppending new text\n",
      "Appending new text\n",
      "Appending new text\n",
      "Appending new text\n",
      "Appending new text\n",
      "\n",
      "Appending new text\n",
      "Appending new textAppending new text\n",
      "Appending new text\n"
     ]
    }
   ],
   "source": [
    "file=open('First_file.txt','r')\n",
    "print(file.read()) # it is showing various experimented results done previous to it\n",
    "file.close()"
   ]
  },
  {
   "cell_type": "code",
   "execution_count": 46,
   "metadata": {},
   "outputs": [
    {
     "name": "stdout",
     "output_type": "stream",
     "text": [
      "Overwrited the contentAppending new text\n",
      "Appending new text\n",
      "Appending new text\n",
      "Appending new text\n",
      "Appending new text\n",
      "\n",
      "Appending new text\n",
      "Appending new textAppending new text\n",
      "Appending new text"
     ]
    }
   ],
   "source": [
    "file=open('First_File.txt','r+')\n",
    "for line in file:\n",
    "    print(line,end='')\n",
    "file.close()"
   ]
  },
  {
   "cell_type": "code",
   "execution_count": 53,
   "metadata": {},
   "outputs": [
    {
     "name": "stdout",
     "output_type": "stream",
     "text": [
      "Overwrited the contentAppending new text\n",
      "\n"
     ]
    }
   ],
   "source": [
    "file=open('First_File.txt','r+')\n",
    "print(file.readline())\n",
    "file.close()"
   ]
  },
  {
   "cell_type": "markdown",
   "metadata": {},
   "source": [
    "# CSV files"
   ]
  },
  {
   "cell_type": "code",
   "execution_count": 64,
   "metadata": {},
   "outputs": [
    {
     "name": "stdout",
     "output_type": "stream",
     "text": [
      "['Abhi', 'ME', 'IIT Jammu', '2019']\n"
     ]
    }
   ],
   "source": [
    "import csv\n",
    "with open('Jammu.csv','r') as file:\n",
    "    reader=csv.reader(file)\n",
    "    for row in reader:\n",
    "        print(row)\n",
    "        \n",
    "file.close()"
   ]
  },
  {
   "cell_type": "code",
   "execution_count": 65,
   "metadata": {},
   "outputs": [],
   "source": [
    "with open('Jammu.csv','w',newline='') as file:\n",
    "    writer=csv.writer(file)\n",
    "    writer.writerow(['Abhi','ME','IIT Jammu','2019'])\n",
    "    "
   ]
  },
  {
   "cell_type": "code",
   "execution_count": 72,
   "metadata": {},
   "outputs": [],
   "source": [
    "csv_rowlist=[['Name','Branch','College','Year'],['Raj','ME','IIT Jammu','2019'],['Ash','ME','IIT Jammu','2019'],['Deepak','ME','IIT Jammu','2019'],['Vicky','ME','IIT Jammu','2019'],['Abhinay','EE','IIT Jammu','2019'],['Sid','EE','IIT Jammu','2019'],['Akshat','CSE','IIT Jammu','2019'],['Rohit','CE','IIT Jammu','2019'],['Sonkar','CH','IIT Jammu','2019'],['Prakhar','CH','IIT Jammu','2019']]\n",
    "with open('Jammu.csv','w',newline='') as file:\n",
    "    writer=csv.writer(file)\n",
    "    writer.writerows(csv_rowlist)\n",
    "    "
   ]
  },
  {
   "cell_type": "code",
   "execution_count": 73,
   "metadata": {},
   "outputs": [
    {
     "name": "stdout",
     "output_type": "stream",
     "text": [
      "['Name', 'Branch', 'College', 'Year']\n",
      "['Raj', 'ME', 'IIT Jammu', '2019']\n",
      "['Ash', 'ME', 'IIT Jammu', '2019']\n",
      "['Deepak', 'ME', 'IIT Jammu', '2019']\n",
      "['Vicky', 'ME', 'IIT Jammu', '2019']\n",
      "['Abhinay', 'EE', 'IIT Jammu', '2019']\n",
      "['Sid', 'EE', 'IIT Jammu', '2019']\n",
      "['Akshat', 'CSE', 'IIT Jammu', '2019']\n",
      "['Rohit', 'CE', 'IIT Jammu', '2019']\n",
      "['Sonkar', 'CH', 'IIT Jammu', '2019']\n",
      "['Prakhar', 'CH', 'IIT Jammu', '2019']\n"
     ]
    }
   ],
   "source": [
    "import csv\n",
    "with open('Jammu.csv','r') as file:\n",
    "    reader=csv.reader(file)\n",
    "    for row in reader:\n",
    "        print(row)\n",
    "        \n",
    "file.close()"
   ]
  },
  {
   "cell_type": "code",
   "execution_count": 74,
   "metadata": {},
   "outputs": [
    {
     "name": "stdout",
     "output_type": "stream",
     "text": [
      "{'Name': 'Raj', 'Branch': 'ME', 'College': 'IIT Jammu', 'Year': '2019'}\n",
      "{'Name': 'Ash', 'Branch': 'ME', 'College': 'IIT Jammu', 'Year': '2019'}\n",
      "{'Name': 'Deepak', 'Branch': 'ME', 'College': 'IIT Jammu', 'Year': '2019'}\n",
      "{'Name': 'Vicky', 'Branch': 'ME', 'College': 'IIT Jammu', 'Year': '2019'}\n",
      "{'Name': 'Abhinay', 'Branch': 'EE', 'College': 'IIT Jammu', 'Year': '2019'}\n",
      "{'Name': 'Sid', 'Branch': 'EE', 'College': 'IIT Jammu', 'Year': '2019'}\n",
      "{'Name': 'Akshat', 'Branch': 'CSE', 'College': 'IIT Jammu', 'Year': '2019'}\n",
      "{'Name': 'Rohit', 'Branch': 'CE', 'College': 'IIT Jammu', 'Year': '2019'}\n",
      "{'Name': 'Sonkar', 'Branch': 'CH', 'College': 'IIT Jammu', 'Year': '2019'}\n",
      "{'Name': 'Prakhar', 'Branch': 'CH', 'College': 'IIT Jammu', 'Year': '2019'}\n"
     ]
    }
   ],
   "source": [
    "import csv\n",
    "with open('Jammu.csv','r') as file:\n",
    "    reader=csv.DictReader(file)\n",
    "    for row in reader:\n",
    "        print(row)\n",
    "        \n",
    "file.close()"
   ]
  },
  {
   "cell_type": "code",
   "execution_count": null,
   "metadata": {},
   "outputs": [],
   "source": []
  }
 ],
 "metadata": {
  "kernelspec": {
   "display_name": "Python 3",
   "language": "python",
   "name": "python3"
  },
  "language_info": {
   "codemirror_mode": {
    "name": "ipython",
    "version": 3
   },
   "file_extension": ".py",
   "mimetype": "text/x-python",
   "name": "python",
   "nbconvert_exporter": "python",
   "pygments_lexer": "ipython3",
   "version": "3.8.5"
  }
 },
 "nbformat": 4,
 "nbformat_minor": 4
}
