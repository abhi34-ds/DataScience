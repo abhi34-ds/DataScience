{
 "cells": [
  {
   "cell_type": "markdown",
   "metadata": {},
   "source": [
    "# Lambda Function"
   ]
  },
  {
   "cell_type": "code",
   "execution_count": 6,
   "metadata": {},
   "outputs": [
    {
     "name": "stdout",
     "output_type": "stream",
     "text": [
      "6\n"
     ]
    }
   ],
   "source": [
    "x= lambda a,b: a*b\n",
    "print(x(2,3))"
   ]
  },
  {
   "cell_type": "code",
   "execution_count": 7,
   "metadata": {},
   "outputs": [
    {
     "name": "stdout",
     "output_type": "stream",
     "text": [
      "Rahul is 50 years old\n"
     ]
    }
   ],
   "source": [
    "y= lambda st,b: print(\"{} is {} years old\".format(st,b))\n",
    "y(\"Rahul\",50)"
   ]
  },
  {
   "cell_type": "markdown",
   "metadata": {},
   "source": [
    "# Maps Function"
   ]
  },
  {
   "cell_type": "code",
   "execution_count": 9,
   "metadata": {},
   "outputs": [
    {
     "name": "stdout",
     "output_type": "stream",
     "text": [
      "<map object at 0x0000019B11E30490>\n",
      "[1, 2, 6, 24, 120]\n",
      "set()\n"
     ]
    }
   ],
   "source": [
    "def fac(a):\n",
    "    p=1\n",
    "    for i in range(1,a+1):\n",
    "        p=p*i\n",
    "    return p\n",
    "\n",
    "\n",
    "mp=map(fac,[1,2,3,4,5])\n",
    "print(mp)\n",
    "print(list(mp))\n",
    "print(set(mp))"
   ]
  },
  {
   "cell_type": "code",
   "execution_count": 10,
   "metadata": {},
   "outputs": [
    {
     "name": "stdout",
     "output_type": "stream",
     "text": [
      "<map object at 0x0000019B11E02BB0>\n",
      "[1, 2, 6]\n"
     ]
    }
   ],
   "source": [
    "dic={'one':1,'two':2,'three':3}\n",
    "mp=map(fac,dic.values())\n",
    "print(mp)\n",
    "print(list(mp))"
   ]
  },
  {
   "cell_type": "markdown",
   "metadata": {},
   "source": [
    "# Filter Function"
   ]
  },
  {
   "cell_type": "code",
   "execution_count": 12,
   "metadata": {},
   "outputs": [
    {
     "name": "stdout",
     "output_type": "stream",
     "text": [
      "[15, 30, 45, 60, 75, 90]\n"
     ]
    }
   ],
   "source": [
    "import numpy as np\n",
    "np_seq=np.arange(5,105,5)\n",
    "\n",
    "def multiples(a):\n",
    "    if(a%15==0):\n",
    "        return True\n",
    "    else:\n",
    "        return False\n",
    "\n",
    "filt_ls=filter(multiples,np_seq)\n",
    "print(list(filt_ls))"
   ]
  },
  {
   "cell_type": "markdown",
   "metadata": {},
   "source": [
    "# Generators"
   ]
  },
  {
   "cell_type": "code",
   "execution_count": 22,
   "metadata": {},
   "outputs": [
    {
     "name": "stdout",
     "output_type": "stream",
     "text": [
      "5\n",
      "4\n",
      "3\n"
     ]
    }
   ],
   "source": [
    "def gen_func(n):\n",
    "    yield(n)\n",
    "    yield(n-1)\n",
    "    yield(n-2)\n",
    "\n",
    "\n",
    "for i in gen_func(5):\n",
    "        print (i)"
   ]
  },
  {
   "cell_type": "raw",
   "metadata": {},
   "source": [
    "#    \" __str__ vs__repr__\" "
   ]
  },
  {
   "cell_type": "code",
   "execution_count": 33,
   "metadata": {},
   "outputs": [
    {
     "name": "stdout",
     "output_type": "stream",
     "text": [
      "You called __str__\n",
      "Abhishek studies in Mechanical branch\n"
     ]
    }
   ],
   "source": [
    "class Student:\n",
    "    def __init__(self,name,branch):\n",
    "        self.nm=name\n",
    "        self.brc=branch\n",
    "    def __str__(self):\n",
    "        print(\"You called __str__\")\n",
    "        return(\"{} studies in {} branch\".format(self.nm,self.brc))\n",
    "    def __repr__(self):\n",
    "         print(\"You called __repr__\")\n",
    "            \n",
    "obj=Student(\"Abhishek\",\"Mechanical\")\n",
    "print(obj)"
   ]
  },
  {
   "cell_type": "code",
   "execution_count": 32,
   "metadata": {},
   "outputs": [
    {
     "data": {
      "text/plain": [
       "You called __repr__"
      ]
     },
     "execution_count": 32,
     "metadata": {},
     "output_type": "execute_result"
    }
   ],
   "source": [
    "class Student:\n",
    "    def __init__(self,name,branch):\n",
    "        self.nm=name\n",
    "        self.brc=branch\n",
    "    def __str__(self):\n",
    "        print(\"You called __str__\")\n",
    "        return(\"{} studies in {} branch\".format(self.nm,self.brc))\n",
    "    def __repr__(self):\n",
    "         return(\"You called __repr__\")\n",
    "            \n",
    "obj=Student(\"Abhishek\",\"Mechanical\")\n",
    "obj"
   ]
  },
  {
   "cell_type": "code",
   "execution_count": null,
   "metadata": {},
   "outputs": [],
   "source": []
  }
 ],
 "metadata": {
  "kernelspec": {
   "display_name": "Python 3",
   "language": "python",
   "name": "python3"
  },
  "language_info": {
   "codemirror_mode": {
    "name": "ipython",
    "version": 3
   },
   "file_extension": ".py",
   "mimetype": "text/x-python",
   "name": "python",
   "nbconvert_exporter": "python",
   "pygments_lexer": "ipython3",
   "version": "3.8.5"
  }
 },
 "nbformat": 4,
 "nbformat_minor": 4
}
